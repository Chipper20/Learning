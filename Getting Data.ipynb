{
 "cells": [
  {
   "cell_type": "code",
   "execution_count": 3,
   "metadata": {},
   "outputs": [],
   "source": [
    "import datetime as dt\n",
    "import yfinance as yf\n",
    "import pandas as pd"
   ]
  },
  {
   "cell_type": "code",
   "execution_count": 4,
   "metadata": {},
   "outputs": [],
   "source": [
    "stocks = ['MSFT', 'AMZN']\n",
    "start = dt.datetime.today() - dt.timedelta(30)\n",
    "end = dt.datetime.today()\n",
    "cl_price = pd.DataFrame()"
   ]
  },
  {
   "cell_type": "code",
   "execution_count": 5,
   "metadata": {},
   "outputs": [
    {
     "name": "stdout",
     "output_type": "stream",
     "text": [
      "[*********************100%***********************]  1 of 1 completed\n",
      "[*********************100%***********************]  1 of 1 completed\n"
     ]
    }
   ],
   "source": [
    "for ticker in stocks:\n",
    "    cl_price[ticker] = yf.download(ticker, start,end)['Adj Close']"
   ]
  },
  {
   "cell_type": "code",
   "execution_count": 9,
   "metadata": {},
   "outputs": [
    {
     "data": {
      "text/html": [
       "<div>\n",
       "<style scoped>\n",
       "    .dataframe tbody tr th:only-of-type {\n",
       "        vertical-align: middle;\n",
       "    }\n",
       "\n",
       "    .dataframe tbody tr th {\n",
       "        vertical-align: top;\n",
       "    }\n",
       "\n",
       "    .dataframe thead th {\n",
       "        text-align: right;\n",
       "    }\n",
       "</style>\n",
       "<table border=\"1\" class=\"dataframe\">\n",
       "  <thead>\n",
       "    <tr style=\"text-align: right;\">\n",
       "      <th></th>\n",
       "      <th>MSFT</th>\n",
       "      <th>AMZN</th>\n",
       "    </tr>\n",
       "    <tr>\n",
       "      <th>Date</th>\n",
       "      <th></th>\n",
       "      <th></th>\n",
       "    </tr>\n",
       "  </thead>\n",
       "  <tbody>\n",
       "    <tr>\n",
       "      <th>2020-05-12</th>\n",
       "      <td>182.003098</td>\n",
       "      <td>2356.949951</td>\n",
       "    </tr>\n",
       "    <tr>\n",
       "      <th>2020-05-13</th>\n",
       "      <td>179.250778</td>\n",
       "      <td>2367.919922</td>\n",
       "    </tr>\n",
       "    <tr>\n",
       "      <th>2020-05-14</th>\n",
       "      <td>180.028610</td>\n",
       "      <td>2388.850098</td>\n",
       "    </tr>\n",
       "    <tr>\n",
       "      <th>2020-05-15</th>\n",
       "      <td>182.651306</td>\n",
       "      <td>2409.780029</td>\n",
       "    </tr>\n",
       "    <tr>\n",
       "      <th>2020-05-18</th>\n",
       "      <td>184.396439</td>\n",
       "      <td>2426.260010</td>\n",
       "    </tr>\n",
       "  </tbody>\n",
       "</table>\n",
       "</div>"
      ],
      "text/plain": [
       "                  MSFT         AMZN\n",
       "Date                               \n",
       "2020-05-12  182.003098  2356.949951\n",
       "2020-05-13  179.250778  2367.919922\n",
       "2020-05-14  180.028610  2388.850098\n",
       "2020-05-15  182.651306  2409.780029\n",
       "2020-05-18  184.396439  2426.260010"
      ]
     },
     "execution_count": 9,
     "metadata": {},
     "output_type": "execute_result"
    }
   ],
   "source": [
    "cl_price.head()"
   ]
  },
  {
   "cell_type": "code",
   "execution_count": 11,
   "metadata": {},
   "outputs": [
    {
     "name": "stdout",
     "output_type": "stream",
     "text": [
      "[*********************100%***********************]  1 of 1 completed\n",
      "[*********************100%***********************]  1 of 1 completed\n"
     ]
    }
   ],
   "source": [
    "# store the entire dataframe in a dictionary\n",
    "# ticker is the key, values is the dataframe\n",
    "\n",
    "ohlcv_data ={}\n",
    "\n",
    "for ticker in stocks:\n",
    "    ohlcv_data[ticker] = yf.download(ticker, start,end)"
   ]
  },
  {
   "cell_type": "code",
   "execution_count": 15,
   "metadata": {},
   "outputs": [
    {
     "data": {
      "text/html": [
       "<div>\n",
       "<style scoped>\n",
       "    .dataframe tbody tr th:only-of-type {\n",
       "        vertical-align: middle;\n",
       "    }\n",
       "\n",
       "    .dataframe tbody tr th {\n",
       "        vertical-align: top;\n",
       "    }\n",
       "\n",
       "    .dataframe thead th {\n",
       "        text-align: right;\n",
       "    }\n",
       "</style>\n",
       "<table border=\"1\" class=\"dataframe\">\n",
       "  <thead>\n",
       "    <tr style=\"text-align: right;\">\n",
       "      <th></th>\n",
       "      <th>Open</th>\n",
       "      <th>High</th>\n",
       "      <th>Low</th>\n",
       "      <th>Close</th>\n",
       "      <th>Adj Close</th>\n",
       "      <th>Volume</th>\n",
       "    </tr>\n",
       "    <tr>\n",
       "      <th>Date</th>\n",
       "      <th></th>\n",
       "      <th></th>\n",
       "      <th></th>\n",
       "      <th></th>\n",
       "      <th></th>\n",
       "      <th></th>\n",
       "    </tr>\n",
       "  </thead>\n",
       "  <tbody>\n",
       "    <tr>\n",
       "      <th>2020-05-12</th>\n",
       "      <td>186.800003</td>\n",
       "      <td>187.039993</td>\n",
       "      <td>182.300003</td>\n",
       "      <td>182.509995</td>\n",
       "      <td>182.003098</td>\n",
       "      <td>32038200</td>\n",
       "    </tr>\n",
       "    <tr>\n",
       "      <th>2020-05-13</th>\n",
       "      <td>182.550003</td>\n",
       "      <td>184.050003</td>\n",
       "      <td>176.539993</td>\n",
       "      <td>179.750000</td>\n",
       "      <td>179.250778</td>\n",
       "      <td>44711500</td>\n",
       "    </tr>\n",
       "    <tr>\n",
       "      <th>2020-05-14</th>\n",
       "      <td>177.539993</td>\n",
       "      <td>180.690002</td>\n",
       "      <td>175.679993</td>\n",
       "      <td>180.529999</td>\n",
       "      <td>180.028610</td>\n",
       "      <td>41873900</td>\n",
       "    </tr>\n",
       "    <tr>\n",
       "      <th>2020-05-15</th>\n",
       "      <td>179.059998</td>\n",
       "      <td>187.059998</td>\n",
       "      <td>177.000000</td>\n",
       "      <td>183.160004</td>\n",
       "      <td>182.651306</td>\n",
       "      <td>46610400</td>\n",
       "    </tr>\n",
       "    <tr>\n",
       "      <th>2020-05-18</th>\n",
       "      <td>185.750000</td>\n",
       "      <td>186.199997</td>\n",
       "      <td>183.960007</td>\n",
       "      <td>184.910004</td>\n",
       "      <td>184.396439</td>\n",
       "      <td>35306600</td>\n",
       "    </tr>\n",
       "  </tbody>\n",
       "</table>\n",
       "</div>"
      ],
      "text/plain": [
       "                  Open        High         Low       Close   Adj Close  \\\n",
       "Date                                                                     \n",
       "2020-05-12  186.800003  187.039993  182.300003  182.509995  182.003098   \n",
       "2020-05-13  182.550003  184.050003  176.539993  179.750000  179.250778   \n",
       "2020-05-14  177.539993  180.690002  175.679993  180.529999  180.028610   \n",
       "2020-05-15  179.059998  187.059998  177.000000  183.160004  182.651306   \n",
       "2020-05-18  185.750000  186.199997  183.960007  184.910004  184.396439   \n",
       "\n",
       "              Volume  \n",
       "Date                  \n",
       "2020-05-12  32038200  \n",
       "2020-05-13  44711500  \n",
       "2020-05-14  41873900  \n",
       "2020-05-15  46610400  \n",
       "2020-05-18  35306600  "
      ]
     },
     "execution_count": 15,
     "metadata": {},
     "output_type": "execute_result"
    }
   ],
   "source": [
    "ohlcv_data['MSFT'].head()"
   ]
  },
  {
   "cell_type": "code",
   "execution_count": 19,
   "metadata": {},
   "outputs": [
    {
     "data": {
      "text/plain": [
       "Date\n",
       "2020-05-12    2356.949951\n",
       "2020-05-13    2367.919922\n",
       "2020-05-14    2388.850098\n",
       "2020-05-15    2409.780029\n",
       "2020-05-18    2426.260010\n",
       "Name: Close, dtype: float64"
      ]
     },
     "execution_count": 19,
     "metadata": {},
     "output_type": "execute_result"
    }
   ],
   "source": [
    "ohlcv_data['AMZN']['Close'][:5]  # first 5 data pieces"
   ]
  },
  {
   "cell_type": "code",
   "execution_count": 10,
   "metadata": {},
   "outputs": [
    {
     "name": "stdout",
     "output_type": "stream",
     "text": [
      "[*********************100%***********************]  1 of 1 completed\n"
     ]
    }
   ],
   "source": [
    "# getting intraday data\n",
    "\n",
    "import yfinance as yf\n",
    "\n",
    "data = yf.download('AMZN', period = '1mo', interval='5m')"
   ]
  },
  {
   "cell_type": "code",
   "execution_count": 2,
   "metadata": {},
   "outputs": [
    {
     "data": {
      "text/plain": [
       "pandas.core.frame.DataFrame"
      ]
     },
     "execution_count": 2,
     "metadata": {},
     "output_type": "execute_result"
    }
   ],
   "source": [
    "type(data)"
   ]
  },
  {
   "cell_type": "code",
   "execution_count": 3,
   "metadata": {},
   "outputs": [
    {
     "data": {
      "text/html": [
       "<div>\n",
       "<style scoped>\n",
       "    .dataframe tbody tr th:only-of-type {\n",
       "        vertical-align: middle;\n",
       "    }\n",
       "\n",
       "    .dataframe tbody tr th {\n",
       "        vertical-align: top;\n",
       "    }\n",
       "\n",
       "    .dataframe thead th {\n",
       "        text-align: right;\n",
       "    }\n",
       "</style>\n",
       "<table border=\"1\" class=\"dataframe\">\n",
       "  <thead>\n",
       "    <tr style=\"text-align: right;\">\n",
       "      <th></th>\n",
       "      <th>Open</th>\n",
       "      <th>High</th>\n",
       "      <th>Low</th>\n",
       "      <th>Close</th>\n",
       "      <th>Adj Close</th>\n",
       "      <th>Volume</th>\n",
       "    </tr>\n",
       "    <tr>\n",
       "      <th>Datetime</th>\n",
       "      <th></th>\n",
       "      <th></th>\n",
       "      <th></th>\n",
       "      <th></th>\n",
       "      <th></th>\n",
       "      <th></th>\n",
       "    </tr>\n",
       "  </thead>\n",
       "  <tbody>\n",
       "    <tr>\n",
       "      <th>2020-05-11 09:30:00-04:00</th>\n",
       "      <td>2374.699951</td>\n",
       "      <td>2389.340088</td>\n",
       "      <td>2372.110107</td>\n",
       "      <td>2387.330078</td>\n",
       "      <td>2387.330078</td>\n",
       "      <td>213033</td>\n",
       "    </tr>\n",
       "    <tr>\n",
       "      <th>2020-05-11 09:35:00-04:00</th>\n",
       "      <td>2388.159912</td>\n",
       "      <td>2395.919922</td>\n",
       "      <td>2387.330078</td>\n",
       "      <td>2393.831787</td>\n",
       "      <td>2393.831787</td>\n",
       "      <td>114276</td>\n",
       "    </tr>\n",
       "    <tr>\n",
       "      <th>2020-05-11 09:40:00-04:00</th>\n",
       "      <td>2394.145020</td>\n",
       "      <td>2396.281494</td>\n",
       "      <td>2385.629883</td>\n",
       "      <td>2388.000000</td>\n",
       "      <td>2388.000000</td>\n",
       "      <td>75621</td>\n",
       "    </tr>\n",
       "    <tr>\n",
       "      <th>2020-05-11 09:45:00-04:00</th>\n",
       "      <td>2389.044922</td>\n",
       "      <td>2396.989990</td>\n",
       "      <td>2387.906982</td>\n",
       "      <td>2395.310059</td>\n",
       "      <td>2395.310059</td>\n",
       "      <td>103440</td>\n",
       "    </tr>\n",
       "    <tr>\n",
       "      <th>2020-05-11 09:50:00-04:00</th>\n",
       "      <td>2395.000000</td>\n",
       "      <td>2403.000000</td>\n",
       "      <td>2394.600098</td>\n",
       "      <td>2401.399902</td>\n",
       "      <td>2401.399902</td>\n",
       "      <td>120979</td>\n",
       "    </tr>\n",
       "  </tbody>\n",
       "</table>\n",
       "</div>"
      ],
      "text/plain": [
       "                                  Open         High          Low        Close  \\\n",
       "Datetime                                                                        \n",
       "2020-05-11 09:30:00-04:00  2374.699951  2389.340088  2372.110107  2387.330078   \n",
       "2020-05-11 09:35:00-04:00  2388.159912  2395.919922  2387.330078  2393.831787   \n",
       "2020-05-11 09:40:00-04:00  2394.145020  2396.281494  2385.629883  2388.000000   \n",
       "2020-05-11 09:45:00-04:00  2389.044922  2396.989990  2387.906982  2395.310059   \n",
       "2020-05-11 09:50:00-04:00  2395.000000  2403.000000  2394.600098  2401.399902   \n",
       "\n",
       "                             Adj Close  Volume  \n",
       "Datetime                                        \n",
       "2020-05-11 09:30:00-04:00  2387.330078  213033  \n",
       "2020-05-11 09:35:00-04:00  2393.831787  114276  \n",
       "2020-05-11 09:40:00-04:00  2388.000000   75621  \n",
       "2020-05-11 09:45:00-04:00  2395.310059  103440  \n",
       "2020-05-11 09:50:00-04:00  2401.399902  120979  "
      ]
     },
     "execution_count": 3,
     "metadata": {},
     "output_type": "execute_result"
    }
   ],
   "source": [
    "data.head()"
   ]
  },
  {
   "cell_type": "code",
   "execution_count": 5,
   "metadata": {},
   "outputs": [],
   "source": [
    "# alternative source for free data\n",
    "'''\n",
    "# go to JECSand/yahoofinancials on GitHub\n",
    "\n",
    "clone or :\n",
    "$ pip install yahoofinancials\n",
    "\n",
    "'''\n",
    "\n",
    "from yahoofinancials import YahooFinancials"
   ]
  },
  {
   "cell_type": "code",
   "execution_count": 6,
   "metadata": {},
   "outputs": [],
   "source": [
    "ticker = \"MSFT\"\n",
    "yahoo_financials = YahooFinancials(ticker)\n",
    "data = yahoo_financials.get_historical_price_data(\"2018-04-24\", \"2020-04-24\", \"daily\")"
   ]
  },
  {
   "cell_type": "code",
   "execution_count": 9,
   "metadata": {},
   "outputs": [
    {
     "data": {
      "text/plain": [
       "dict"
      ]
     },
     "execution_count": 9,
     "metadata": {},
     "output_type": "execute_result"
    }
   ],
   "source": [
    "type(data)"
   ]
  },
  {
   "cell_type": "code",
   "execution_count": null,
   "metadata": {},
   "outputs": [],
   "source": []
  }
 ],
 "metadata": {
  "kernelspec": {
   "display_name": "Python 3",
   "language": "python",
   "name": "python3"
  },
  "language_info": {
   "codemirror_mode": {
    "name": "ipython",
    "version": 3
   },
   "file_extension": ".py",
   "mimetype": "text/x-python",
   "name": "python",
   "nbconvert_exporter": "python",
   "pygments_lexer": "ipython3",
   "version": "3.7.6"
  }
 },
 "nbformat": 4,
 "nbformat_minor": 4
}
